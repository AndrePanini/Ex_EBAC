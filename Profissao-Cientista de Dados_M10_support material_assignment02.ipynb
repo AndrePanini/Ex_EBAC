{
 "cells": [
  {
   "cell_type": "code",
   "execution_count": 35,
   "metadata": {},
   "outputs": [],
   "source": [
    "import pandas as pd\n",
    "import numpy as np\n",
    "from scipy.stats import chi2_contingency\n",
    "from sklearn.preprocessing import LabelEncoder\n"
   ]
  },
  {
   "cell_type": "markdown",
   "metadata": {},
   "source": [
    "# Módulo 10 tarefa 2\n",
    "\n",
    "Considere a mesma base de dados utilizada na tarefa 1 ```previsao_de_renda.csv```."
   ]
  },
  {
   "cell_type": "markdown",
   "metadata": {},
   "source": [
    "1) Com o que você viu em aula, faça uma análise das variáveis qualitativas (posse de imóvel e posse de veículo) para verificar se são boas preditoras de *renda*. Alguma delas parece discriminar *renda* de forma estatisticamente significante?"
   ]
  },
  {
   "cell_type": "code",
   "execution_count": 17,
   "metadata": {},
   "outputs": [],
   "source": [
    "df = pd.read_csv('previsao_de_renda.csv')"
   ]
  },
  {
   "cell_type": "code",
   "execution_count": 30,
   "metadata": {},
   "outputs": [],
   "source": [
    "df_quant = df.select_dtypes(include=['int64', 'float64'])\n",
    "df_quant = df_quant.drop(columns=['index', 'Unnamed: 0'])\n",
    "df_quant = df_quant.head(300)\n",
    "df_quant = df"
   ]
  },
  {
   "cell_type": "code",
   "execution_count": 36,
   "metadata": {},
   "outputs": [
    {
     "name": "stdout",
     "output_type": "stream",
     "text": [
      "Coeficiente de Cramér V para posse_de_veiculo: 0.5843901718934377\n",
      "Coeficiente de Cramér V para posse_de_imovel: 0.5858922284250296\n"
     ]
    }
   ],
   "source": [
    "#Calculando o coeficiente de correlação de Cramér V\n",
    "def cramers_v(confusion_matrix):\n",
    "    chi2 = chi2_contingency(confusion_matrix)[0]\n",
    "    n = confusion_matrix.sum().sum()\n",
    "    phi2 = chi2 / n\n",
    "    r, k = confusion_matrix.shape\n",
    "    phi2corr = max(0, phi2 - ((k-1)*(r-1))/(n-1))\n",
    "    rcorr = r - ((r-1)**2)/(n-1)\n",
    "    kcorr = k - ((k-1)**2)/(n-1)\n",
    "    return np.sqrt(phi2corr / min((kcorr-1), (rcorr-1)))\n",
    "\n",
    "conf_matrix_veiculo = pd.crosstab(df['posse_de_veiculo'], df['renda'])\n",
    "conf_matrix_imovel = pd.crosstab(df['posse_de_imovel'], df['renda'])\n",
    "\n",
    "cramers_v_veiculo = cramers_v(conf_matrix_veiculo.values)\n",
    "cramers_v_imovel = cramers_v(conf_matrix_imovel.values)\n",
    "\n",
    "print(f\"Coeficiente de Cramér V para posse_de_veiculo: {cramers_v_veiculo}\")\n",
    "print(f\"Coeficiente de Cramér V para posse_de_imovel: {cramers_v_imovel}\")"
   ]
  },
  {
   "cell_type": "markdown",
   "metadata": {},
   "source": [
    "1. *Segundo correlação de Cramér V, podemos verificar que; Ambas as variáveis podem ser bons preditorios de renda, mas, que pode ser melhorado usada em conjunto com outras variavies.*"
   ]
  },
  {
   "cell_type": "code",
   "execution_count": null,
   "metadata": {},
   "outputs": [],
   "source": []
  }
 ],
 "metadata": {
  "kernelspec": {
   "display_name": "Python 3 (ipykernel)",
   "language": "python",
   "name": "python3"
  },
  "language_info": {
   "codemirror_mode": {
    "name": "ipython",
    "version": 3
   },
   "file_extension": ".py",
   "mimetype": "text/x-python",
   "name": "python",
   "nbconvert_exporter": "python",
   "pygments_lexer": "ipython3",
   "version": "3.11.5"
  }
 },
 "nbformat": 4,
 "nbformat_minor": 4
}
